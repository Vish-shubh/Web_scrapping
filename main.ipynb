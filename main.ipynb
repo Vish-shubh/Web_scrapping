{
 "cells": [
  {
   "cell_type": "code",
   "execution_count": 1,
   "id": "eeaa82de",
   "metadata": {},
   "outputs": [],
   "source": [
    "from bs4 import BeautifulSoup\n",
    "import urllib.request\n",
    "import re"
   ]
  },
  {
   "cell_type": "code",
   "execution_count": 2,
   "id": "094f988f",
   "metadata": {},
   "outputs": [
    {
     "data": {
      "text/plain": [
       "bs4.BeautifulSoup"
      ]
     },
     "execution_count": 2,
     "metadata": {},
     "output_type": "execute_result"
    }
   ],
   "source": [
    "r = urllib.request.urlopen(\"https://www.ebay.com/itm/403882429657?hash=item5e0944ccd9:g:TQMAAOSwv-ZjHjox\").read()\n",
    "soup = BeautifulSoup(r,'lxml')\n",
    "type(soup)"
   ]
  },
  {
   "cell_type": "code",
   "execution_count": 3,
   "id": "fd533dd3",
   "metadata": {},
   "outputs": [
    {
     "name": "stdout",
     "output_type": "stream",
     "text": [
      "<!DOCTYPE html>\n",
      "<html lang=\"en\" xmlns:fb=\"http://www.facebook.com/2008/fbml\" xmlns:og=\"http://opengr\n"
     ]
    }
   ],
   "source": [
    "print(soup.prettify()[:100])"
   ]
  },
  {
   "cell_type": "code",
   "execution_count": 4,
   "id": "8d2a23a8",
   "metadata": {},
   "outputs": [
    {
     "name": "stdout",
     "output_type": "stream",
     "text": [
      "#mainContent\n",
      "https://www.ebay.com/\n",
      "https://www.ebay.com/sch/ebayadvsearch\n",
      "https://signin.ebay.com/ws/eBayISAPI.dll?SignIn&_trksid=m570.l3348\n",
      "https://www.ebay.com/globaldeals\n",
      "https://ocsnext.ebay.com/ocs/home\n",
      "https://www.ebay.com/sl/sell\n",
      "https://www.ebay.com/mye/myebay/watchlist\n",
      "#gh-wl-click\n",
      "https://signin.ebay.com/ws/eBayISAPI.dll?SignIn&ru=ru\n",
      "https://www.ebay.com/mys/home?source=GBH\n",
      "#gh-eb-My\n",
      "https://www.ebay.com/mye/myebay/summary\n",
      "https://www.ebay.com/mye/myebay/rvi\n",
      "https://www.ebay.com/mye/myebay/v2/bidsoffers\n",
      "https://www.ebay.com/mye/myebay/watchlist\n",
      "https://www.ebay.com/mye/myebay/purchase\n",
      "https://www.ebay.com/mye/buyagain\n",
      "https://www.ebay.com/mys/home?CurrentPage=MyeBayAllSelling&ssPageName=STRK:ME:LNLK:MESX&source=GBH\n",
      "https://www.ebay.com/myb/SavedSearches\n",
      "https://www.ebay.com/myb/SavedSellers\n",
      "https://mesg.ebay.com/mesgweb/ViewMessages/0\n",
      "https://cart.payments.ebay.com/sc/view\n",
      "#gh-minicart-hover\n",
      "http://www.ebay.com\n",
      "https://www.ebay.com/b/Auto-Parts-and-Vehicles/6000/bn_1865334\n",
      "https://www.ebay.com/b/Cars-Trucks/6001/bn_1865117\n",
      "https://www.ebay.com/b/Other-Ford-Cars-Trucks/6057/bn_7115133258\n",
      "javascript:;\n",
      "https://pages.ebay.com/shipping/globalshipping/buyer-tnc.html#programfees\n",
      "https://pages.ebay.com/shipping/globalshipping/buyer-tnc.html#programfees\n",
      "javascript:;\n",
      "javascript:;\n",
      "https://signin.ebay.com/ws/eBayISAPI.dll?SignIn&ru=https%3A%2F%2Fcgi.ebay.com%2Fws%2FeBayISAPI.dll%3FViewItem%26actionType%3Dsinginformore%26item%3D403882429657\n",
      "https://www.ebay.com/itm/403882429657?hash=item5e0944ccd9%3Ag%3ATQMAAOSwv-ZjHjox&nma=true&si=s63K6qDFSfURXsOEqoeWrU9Arhc%253D&orig_cvip=true&nordt=true&rt=nc&_trksid=p2047675.l2557\n",
      "https://www.ebay.com/itm/403882429657?hash=item5e0944ccd9%3Ag%3ATQMAAOSwv-ZjHjox&nma=true&si=s63K6qDFSfURXsOEqoeWrU9Arhc%253D&orig_cvip=true&nordt=true&rt=nc&_trksid=p2047675.l2557\n",
      "javascript:;\n",
      "https://contact.ebay.com/ws/eBayISAPI.dll?ShowCoreAskSellerQuestion&redirect=0&requested=maddie911&iid=403882429657\n",
      "#shpCntId\n",
      "https://www.ebay.com/usr/maddie911?_trksid=p2047675.l2559\n",
      "https://www.ebay.com/fdbk/feedback_profile/maddie911?filter=feedback_page:RECEIVED_AS_SELLER&_trksid=p2047675.l2560\n",
      "https://www.ebay.com/sch/maddie911/m.html?item=403882429657&hash=item5e0944ccd9%3Ag%3ATQMAAOSwv-ZjHjox&rt=nc&_trksid=p2047675.l2562\n",
      "http://www.ebay.com\n",
      "#\n",
      "https://www.ebay.com/b/Headlights-for-Ford-Model-B/33710/bn_1386514\n",
      "https://www.ebay.com/b/Grilles-for-Ford-Model-B/33645/bn_1386508\n",
      "https://www.ebay.com/b/Hoods-for-Ford-Model-B/33646/bn_1386509\n",
      "https://www.ebay.com/b/1932-Ford-Cars-Trucks/6001/bn_55180347\n",
      "https://www.ebay.com/b/Tail-Lights-for-Ford-Model-B/33716/bn_1386515\n",
      "https://www.ebay.com/b/Ford-Model-A-Cars/6001/bn_24012796\n",
      "https://www.ebay.com/b/1930-Ford-Model-A/6001/bn_24013513\n",
      "https://www.ebay.com/b/1929-Ford-Model-A/6001/bn_24013815\n",
      "https://www.ebay.com/b/1931-Ford-Model-A/6001/bn_24013463\n",
      "https://www.ebay.com/b/Ford-Model-T-Cars/6001/bn_24011070\n",
      "https://www.ebayinc.com/company\n",
      "https://community.ebay.com/t5/Announcements/bg-p/Announcements\n",
      "https://community.ebay.com\n",
      "https://pages.ebay.com/securitycenter/index.html\n",
      "https://pages.ebay.com/seller-center/index.html\n",
      "https://www.ebay.com/help/policies/default/ebays-rules-policies?id=4205\n",
      "https://partnernetwork.ebay.com\n",
      "https://www.ebay.com/help/home\n",
      "https://pages.ebay.com/sitemap.html\n",
      "https://www.ebayinc.com/accessibility/\n",
      "https://www.ebay.com/help/policies/member-behaviour-policies/user-agreement?id=4259\n",
      "https://www.ebay.com/help/policies/member-behaviour-policies/user-privacy-notice-privacy-policy?id=4260\n",
      "https://pages.ebay.com/payment/2.0/terms.html\n",
      "https://www.ebay.com/help/policies/member-behaviour-policies/ebay-cookie-notice?id=4267\n",
      "https://www.ebay.com/adchoice/ccpa\n",
      "https://www.ebay.com/adchoice\n"
     ]
    }
   ],
   "source": [
    "for link in soup.find_all('a'):\n",
    "    print(link.get('href'))"
   ]
  },
  {
   "cell_type": "code",
   "execution_count": null,
   "id": "6eb6ae54",
   "metadata": {},
   "outputs": [],
   "source": []
  },
  {
   "cell_type": "code",
   "execution_count": null,
   "id": "3ca1e245",
   "metadata": {},
   "outputs": [],
   "source": []
  },
  {
   "cell_type": "code",
   "execution_count": null,
   "id": "29e4c612",
   "metadata": {},
   "outputs": [],
   "source": []
  }
 ],
 "metadata": {
  "kernelspec": {
   "display_name": "Python 3 (ipykernel)",
   "language": "python",
   "name": "python3"
  },
  "language_info": {
   "codemirror_mode": {
    "name": "ipython",
    "version": 3
   },
   "file_extension": ".py",
   "mimetype": "text/x-python",
   "name": "python",
   "nbconvert_exporter": "python",
   "pygments_lexer": "ipython3",
   "version": "3.9.12"
  }
 },
 "nbformat": 4,
 "nbformat_minor": 5
}
