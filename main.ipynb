{
 "cells": [
  {
   "cell_type": "code",
   "execution_count": 1,
   "id": "eeaa82de",
   "metadata": {},
   "outputs": [],
   "source": [
    "from bs4 import BeautifulSoup\n",
    "import urllib.request\n",
    "import re"
   ]
  },
  {
   "cell_type": "code",
   "execution_count": 2,
   "id": "094f988f",
   "metadata": {},
   "outputs": [
    {
     "data": {
      "text/plain": [
       "bs4.BeautifulSoup"
      ]
     },
     "execution_count": 2,
     "metadata": {},
     "output_type": "execute_result"
    }
   ],
   "source": [
    "r = urllib.request.urlopen(\"https://www.ebay.com/itm/403882429657?hash=item5e0944ccd9:g:TQMAAOSwv-ZjHjox\").read()\n",
    "soup = BeautifulSoup(r,'lxml')\n",
    "type(soup)"
   ]
  },
  {
   "cell_type": "code",
   "execution_count": 3,
   "id": "fd533dd3",
   "metadata": {},
   "outputs": [
    {
     "name": "stdout",
     "output_type": "stream",
     "text": [
      "<!DOCTYPE html>\n",
      "<html lang=\"en\" xmlns:fb=\"http://www.facebook.com/2008/fbml\" xmlns:og=\"http://opengr\n"
     ]
    }
   ],
   "source": [
    "print(soup.prettify()[:100])"
   ]
  },
  {
   "cell_type": "code",
   "execution_count": 4,
   "id": "8d2a23a8",
   "metadata": {},
   "outputs": [
    {
     "name": "stdout",
     "output_type": "stream",
     "text": [
      "#mainContent\n",
      "https://www.ebay.com/\n",
      "https://www.ebay.com/sch/ebayadvsearch\n",
      "https://signin.ebay.com/ws/eBayISAPI.dll?SignIn&_trksid=m570.l3348\n",
      "https://www.ebay.com/globaldeals\n",
      "https://ocsnext.ebay.com/ocs/home\n",
      "https://www.ebay.com/sl/sell\n",
      "https://www.ebay.com/mye/myebay/watchlist\n",
      "#gh-wl-click\n",
      "https://signin.ebay.com/ws/eBayISAPI.dll?SignIn&ru=ru\n",
      "https://www.ebay.com/mys/home?source=GBH\n",
      "#gh-eb-My\n",
      "https://www.ebay.com/mye/myebay/summary\n",
      "https://www.ebay.com/mye/myebay/rvi\n",
      "https://www.ebay.com/mye/myebay/v2/bidsoffers\n",
      "https://www.ebay.com/mye/myebay/watchlist\n",
      "https://www.ebay.com/mye/myebay/purchase\n",
      "https://www.ebay.com/mye/buyagain\n",
      "https://www.ebay.com/mys/home?CurrentPage=MyeBayAllSelling&ssPageName=STRK:ME:LNLK:MESX&source=GBH\n",
      "https://www.ebay.com/myb/SavedSearches\n",
      "https://www.ebay.com/myb/SavedSellers\n",
      "https://mesg.ebay.com/mesgweb/ViewMessages/0\n",
      "https://cart.payments.ebay.com/sc/view\n",
      "#gh-minicart-hover\n",
      "http://www.ebay.com\n",
      "https://www.ebay.com/b/Auto-Parts-and-Vehicles/6000/bn_1865334\n",
      "https://www.ebay.com/b/Cars-Trucks/6001/bn_1865117\n",
      "https://www.ebay.com/b/Other-Ford-Cars-Trucks/6057/bn_7115133258\n",
      "javascript:;\n",
      "https://pages.ebay.com/shipping/globalshipping/buyer-tnc.html#programfees\n",
      "https://pages.ebay.com/shipping/globalshipping/buyer-tnc.html#programfees\n",
      "javascript:;\n",
      "javascript:;\n",
      "https://signin.ebay.com/ws/eBayISAPI.dll?SignIn&ru=https%3A%2F%2Fcgi.ebay.com%2Fws%2FeBayISAPI.dll%3FViewItem%26actionType%3Dsinginformore%26item%3D403882429657\n",
      "https://www.ebay.com/itm/403882429657?hash=item5e0944ccd9%3Ag%3ATQMAAOSwv-ZjHjox&nma=true&si=s63K6qDFSfURXsOEqoeWrU9Arhc%253D&orig_cvip=true&nordt=true&rt=nc&_trksid=p2047675.l2557\n",
      "https://www.ebay.com/itm/403882429657?hash=item5e0944ccd9%3Ag%3ATQMAAOSwv-ZjHjox&nma=true&si=s63K6qDFSfURXsOEqoeWrU9Arhc%253D&orig_cvip=true&nordt=true&rt=nc&_trksid=p2047675.l2557\n",
      "javascript:;\n",
      "https://contact.ebay.com/ws/eBayISAPI.dll?ShowCoreAskSellerQuestion&redirect=0&requested=maddie911&iid=403882429657\n",
      "#shpCntId\n",
      "https://www.ebay.com/usr/maddie911?_trksid=p2047675.l2559\n",
      "https://www.ebay.com/fdbk/feedback_profile/maddie911?filter=feedback_page:RECEIVED_AS_SELLER&_trksid=p2047675.l2560\n",
      "https://www.ebay.com/sch/maddie911/m.html?item=403882429657&hash=item5e0944ccd9%3Ag%3ATQMAAOSwv-ZjHjox&rt=nc&_trksid=p2047675.l2562\n",
      "http://www.ebay.com\n",
      "#\n",
      "https://www.ebay.com/b/Headlights-for-Ford-Model-B/33710/bn_1386514\n",
      "https://www.ebay.com/b/Grilles-for-Ford-Model-B/33645/bn_1386508\n",
      "https://www.ebay.com/b/Hoods-for-Ford-Model-B/33646/bn_1386509\n",
      "https://www.ebay.com/b/1932-Ford-Cars-Trucks/6001/bn_55180347\n",
      "https://www.ebay.com/b/Tail-Lights-for-Ford-Model-B/33716/bn_1386515\n",
      "https://www.ebay.com/b/Ford-Model-A-Cars/6001/bn_24012796\n",
      "https://www.ebay.com/b/1930-Ford-Model-A/6001/bn_24013513\n",
      "https://www.ebay.com/b/1929-Ford-Model-A/6001/bn_24013815\n",
      "https://www.ebay.com/b/1931-Ford-Model-A/6001/bn_24013463\n",
      "https://www.ebay.com/b/Ford-Model-T-Cars/6001/bn_24011070\n",
      "https://www.ebayinc.com/company\n",
      "https://community.ebay.com/t5/Announcements/bg-p/Announcements\n",
      "https://community.ebay.com\n",
      "https://pages.ebay.com/securitycenter/index.html\n",
      "https://pages.ebay.com/seller-center/index.html\n",
      "https://www.ebay.com/help/policies/default/ebays-rules-policies?id=4205\n",
      "https://partnernetwork.ebay.com\n",
      "https://www.ebay.com/help/home\n",
      "https://pages.ebay.com/sitemap.html\n",
      "https://www.ebayinc.com/accessibility/\n",
      "https://www.ebay.com/help/policies/member-behaviour-policies/user-agreement?id=4259\n",
      "https://www.ebay.com/help/policies/member-behaviour-policies/user-privacy-notice-privacy-policy?id=4260\n",
      "https://pages.ebay.com/payment/2.0/terms.html\n",
      "https://www.ebay.com/help/policies/member-behaviour-policies/ebay-cookie-notice?id=4267\n",
      "https://www.ebay.com/adchoice/ccpa\n",
      "https://www.ebay.com/adchoice\n"
     ]
    }
   ],
   "source": [
    "for link in soup.find_all('a'):\n",
    "    print(link.get('href'))"
   ]
  },
  {
   "cell_type": "code",
   "execution_count": 16,
   "id": "6eb6ae54",
   "metadata": {},
   "outputs": [
    {
     "name": "stdout",
     "output_type": "stream",
     "text": [
      "[]\n"
     ]
    }
   ],
   "source": [
    "import numpy as np # linear algebra\n",
    "import pandas as pd # data processing\n",
    "\n",
    "import os\n",
    "print(os.listdir(\"C:\\\\Users\\ADMIN\\OneDrive\\Desktop\\\\New folder\"))\n",
    "# Any results you write to the current directory are saved as output.\n",
    "\n",
    "\n",
    "from requests import get\n",
    "from bs4 import BeautifulSoup\n",
    "import re\n",
    "import pandas as pd\n",
    "from time import sleep, time\n",
    "from random import randint\n",
    "from IPython.core.display import  clear_output\n",
    "from warnings import warn\n",
    "\n",
    "title =[]\n",
    "time_sold = []\n",
    "condition = []\n",
    "#platform =[]\n",
    "price = []\n",
    "bid = []\n",
    "shipping =[]\n",
    "\n",
    "\n",
    "#prepare for change pages\n",
    "pages = [str(i) for i in range(1,16)]\n",
    "url = \"https://www.ebay.com/itm/403882429657?hash=item5e0944ccd9:g:TQMAAOSwv-ZjHjox\"\n",
    "\n",
    "# prepare monitoring of the loop\n",
    "start_time = time()\n",
    "requests = 0\n",
    "# for every page in the interval 1-15\n",
    "for page in pages:\n",
    "    response = get(url)\n",
    "\n",
    "    #pause the loop\n",
    "    sleep(randint(8,15))\n",
    "\n",
    "    # monitor the requests\n",
    "    requests +=1\n",
    "    elapsed_time = time() - start_time\n",
    "    print('Request:{}; Frequency: {} requests/s'.format(requests, requests/elapsed_time))\n",
    "    clear_output(wait = True)\n",
    "        \n",
    "# Throw a warning for non-200 status codes\n",
    "    if response.status_code != 200: \n",
    "        warn('Request: {}; Status code: {}'.format(requests, response.status_code))\n",
    "\n",
    "# Break the loop if the number of requests is greater than expected\n",
    "    if requests > 16: \n",
    "        warn('Number of requests was greater than expected.')\n",
    "        break\n",
    "\n",
    "#create beautifulSoup project\n",
    "    html_soup = BeautifulSoup(response.text, 'html.parser')\n",
    "\n",
    "#get containers\n",
    "\n",
    "    item_containers = html_soup.find_all('li', class_ = 's-item')\n",
    "    items=html_soup.find('li', class_ = 's-item')\n",
    "\n",
    "\n",
    "\n",
    "\n",
    "    for items in item_containers:\n",
    "    \n",
    "        item_title=items.h3.div.next_sibling\n",
    "        title.append(item_title)\n",
    "\n",
    "        item_time = items.div.find(class_=\"s-item__title-tag\").text\n",
    "        item_time=re.split('\\\\bSold\\\\b',item_time)[-1]\n",
    "        item_time=item_time.strip()\n",
    "        time_sold.append(item_time)\n",
    "\n",
    "        item_condition=items.find(\"span\",{\"class\":\"SECONDARY_INFO\"}).get_text()\n",
    "        condition.append(item_condition)\n",
    "    \n",
    "#    item_platform=items.find(\"span\",{\"class\":\"SECONDARY_INFO\"}).next_sibling.next_sibling\n",
    "#    platform.append(item_platform)\n",
    "    \n",
    "        item_price=items.find('span', class_='s-item__price').text\n",
    "        item_price =re.findall(\"\\d+\\.\\d+\", item_price)\n",
    "        item_price=\"\".join(item_price)\n",
    "        price.append(item_price)\n",
    "\n",
    "        item_bid=items.find('span', class_='s-item__bidCount').text.split()[0]\n",
    "        #item_bid=re.split('\\s',item_bid)[0]\n",
    "        bid.append(item_bid)\n",
    "        \n",
    "        \n",
    "        item_shipping = items.find(\"span\", {\"class\": \"s-item__shipping\"}).get_text()\n",
    "        item_shipping =re.findall(\"\\d+\\.\\d+\", item_shipping)\n",
    "#item_shipping = re.findall(\"\\d.*?(?=\\s)\", item_shipping)\n",
    "        item_shipping=\"\".join(item_shipping)\n",
    "#item_shipping = re.split('\\s',item_shipping)[0]\n",
    "        if item_shipping is '':\n",
    "            item_shipping='0'\n",
    "        shipping.append(item_shipping)\n",
    "\n",
    "\n",
    "df=pd.DataFrame({'title':title, 'time':time_sold, 'condition':condition, 'price':price, 'bid':bid, 'shipping':shipping})\n",
    "\n",
    "print(title)\n",
    "\n",
    "df.to_csv('ebay_scraping.csv')"
   ]
  },
  {
   "cell_type": "code",
   "execution_count": 18,
   "id": "3ca1e245",
   "metadata": {},
   "outputs": [],
   "source": [
    "from urllib.request import urlopen as req\n",
    "from bs4 import BeautifulSoup as soup\n",
    "import numpy as np\n",
    "import pandas as pd\n",
    "import re\n",
    "\n",
    "my_url=(\"https://www.ebay.com/itm/403882429657?hash=item5e0944ccd9:g:TQMAAOSwv-ZjHjox\")\n",
    "\n",
    "def safe_list_get (l, idx, default):\n",
    "    try:\n",
    "        return l[idx]\n",
    "    except IndexError:\n",
    "        return default\n",
    "\n",
    "def scrape(n, my_url): \n",
    "    my_url=my_url+str(n)\n",
    "    req(my_url)\n",
    "    uClient=req(my_url)\n",
    "    page_html=uClient.read()\n",
    "    uClient.close() \n",
    "    page_soup=soup(page_html, 'html.parser')\n",
    "    return page_soup\n",
    "\n",
    "def research(page_soup):\n",
    "    wrapper=page_soup.findAll(\"div\",{\"class\":'s-item__wrapper clearfix'})\n",
    "    df={'name':[],'GB':[],'shipping':[],'price':[],'rating':[]}\n",
    "    for container in wrapper:\n",
    "        df['price'].append(container.find(\"span\",{\"class\":'s-item__price'}).text.replace('$','').replace(',',''))\n",
    "        words=re.findall(r'\\w+',container.find(\"h3\",{\"class\":\"s-item__title\"} or {\"class\":\"s-item__title s-item__title--has-tags\"}).text)\n",
    "        df['name'].append(safe_list_get([' '.join(words[i+1:i+3]) for i in range(len(words)) if words[i]==\"GeForce\"],0,None))\n",
    "        GB= re.findall(r'\\w+',container.find(\"div\",{\"class\":\"s-item__subtitle\"}).text)\n",
    "        df['GB'].append(safe_list_get([' '.join(GB[i-1:i]) for i in range(len(GB)) if GB[i]==\"GB\"],0,None))\n",
    "        df['shipping'].append(container.find(\"span\",{\"class\":'s-item__shipping s-item__logisticsCost'}).text.replace('shipping','').replace('+$','').replace(\" \",'').replace('estimate',''))\n",
    "        rating=re.findall(r'\\w+',str(container.find(\"span\",{\"class\":'s-item__reviews-count'})))\n",
    "        df['rating'].append(safe_list_get([' '.join(rating[i-1:i]) for i in range(len(rating)) if rating[i]==\"product\"],0,None))\n",
    "        \n",
    "    return df\n",
    "dflist=[]\n",
    "for i in range(1,5):\n",
    "    a=scrape(i,my_url)\n",
    "    dflist.append(pd.DataFrame(research(a)))\n",
    "  \n",
    "df=pd.concat(dflist[0:10])\n",
    "df.dropna(subset=['name','price'], inplace=True)\n",
    "df.to_csv('geforce_from_ebay_.csv',index=False)"
   ]
  },
  {
   "cell_type": "code",
   "execution_count": null,
   "id": "29e4c612",
   "metadata": {},
   "outputs": [],
   "source": []
  },
  {
   "cell_type": "code",
   "execution_count": 6,
   "id": "04bee3f5",
   "metadata": {},
   "outputs": [],
   "source": [
    "from urllib.request import Request,urlopen\n",
    "from bs4 import BeautifulSoup\n",
    "import requests"
   ]
  },
  {
   "cell_type": "code",
   "execution_count": 29,
   "id": "163fd1c4",
   "metadata": {},
   "outputs": [],
   "source": [
    "link = \"https://www.ebay.com/itm/195422635526?hash=item2d8018c606:g:fjEAAOSwWl5iMMsB&amdata=enc%3AAQAHAAAAoIWzh3ZxrKTZw6l94hy%2B%2FBKsBwrJFb7Ye0zVnqCDLn1UYt8lHcQUAbfMKOf9IlWoITLbLNSTjxPaLQUQTcOjSCEGNlfmrGdHbTB%2Fi%2BCnyDMzpXloa1pRripeXGOLmB%2B8%2BJQISpBtiy9J6fT%2BxVl4l6aV0Yz4FRMmhZmwDiLcT3wKDMFNdiOuiB6z%2BcOzLKnBun4nTZLoL0N8w%2B6ZDWxoXfU%3D%7Ctkp%3ABk9SR4zu8Ij-YA\""
   ]
  },
  {
   "cell_type": "code",
   "execution_count": 30,
   "id": "8076622c",
   "metadata": {},
   "outputs": [],
   "source": [
    "req = Request(link , headers={'User-Agent':'Mozilla/5.0'})"
   ]
  },
  {
   "cell_type": "code",
   "execution_count": 32,
   "id": "024df3a7",
   "metadata": {},
   "outputs": [
    {
     "name": "stdout",
     "output_type": "stream",
     "text": [
      "Price of car is: 45000.0\n"
     ]
    }
   ],
   "source": [
    "webpage = urlopen(req).read()\n",
    "with requests.Session() as c:\n",
    "    soup = BeautifulSoup(webpage,'html.parser')\n",
    "    print('Price of car is:',soup.find('span',attrs={'itemprop':'price'})['content'])"
   ]
  },
  {
   "cell_type": "code",
   "execution_count": 15,
   "id": "069e39b2",
   "metadata": {},
   "outputs": [
    {
     "name": "stdout",
     "output_type": "stream",
     "text": [
      "Defaulting to user installation because normal site-packages is not writeable\n",
      "Requirement already satisfied: html5lib in c:\\users\\admin\\appdata\\roaming\\python\\python39\\site-packages (1.1)\n",
      "Requirement already satisfied: webencodings in c:\\programdata\\anaconda3\\lib\\site-packages (from html5lib) (0.5.1)\n",
      "Requirement already satisfied: six>=1.9 in c:\\programdata\\anaconda3\\lib\\site-packages (from html5lib) (1.16.0)\n",
      "Note: you may need to restart the kernel to use updated packages.\n"
     ]
    }
   ],
   "source": [
    "pip install html5lib"
   ]
  },
  {
   "cell_type": "code",
   "execution_count": null,
   "id": "3365dcac",
   "metadata": {},
   "outputs": [],
   "source": []
  }
 ],
 "metadata": {
  "kernelspec": {
   "display_name": "Python 3 (ipykernel)",
   "language": "python",
   "name": "python3"
  },
  "language_info": {
   "codemirror_mode": {
    "name": "ipython",
    "version": 3
   },
   "file_extension": ".py",
   "mimetype": "text/x-python",
   "name": "python",
   "nbconvert_exporter": "python",
   "pygments_lexer": "ipython3",
   "version": "3.9.12"
  }
 },
 "nbformat": 4,
 "nbformat_minor": 5
}
