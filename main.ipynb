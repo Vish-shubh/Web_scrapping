{
 "cells": [
  {
   "cell_type": "code",
   "execution_count": 74,
   "id": "bab37f08",
   "metadata": {},
   "outputs": [],
   "source": [
    "import csv\n",
    "import requests\n",
    "from bs4 import BeautifulSoup"
   ]
  },
  {
   "cell_type": "code",
   "execution_count": 2,
   "id": "7df1b8d5",
   "metadata": {},
   "outputs": [],
   "source": [
    "def get_page(url):\n",
    "    response = requests.get(url)\n",
    "    \n",
    "    if not response.ok:\n",
    "        print('serevr responded',response.status_code)\n",
    "    else:\n",
    "        soup = BeautifulSoup(response.text,'lxml')\n",
    "    return soup"
   ]
  },
  {
   "cell_type": "code",
   "execution_count": 77,
   "id": "fbca5071",
   "metadata": {},
   "outputs": [
    {
     "name": "stdout",
     "output_type": "stream",
     "text": [
      "1932 Ford Model B  | eBay\n",
      "45000.0\n"
     ]
    }
   ],
   "source": [
    "def get_detail_data(soup):\n",
    "    try:\n",
    "        title = soup.title.string\n",
    "    except:\n",
    "        title = ''\n",
    "    print(title)\n",
    "    try:\n",
    "        price = soup.find('span',attrs={'itemprop':'price'})['content']\n",
    "    except:\n",
    "        price = ''\n",
    "    print(price)\n",
    "#     try:\n",
    "#         link = soup.find_all('a').get('href')\n",
    "#     except:\n",
    "#         link=''\n",
    "#     print(link)\n",
    "    \n",
    "    \n",
    "#     try:\n",
    "#         Vechile_description = soup.find_all('div').find('h3')\n",
    "#     except:\n",
    "#         Vechile_description = ''\n",
    "    \n",
    "    data = {\n",
    "        \n",
    "        'title':title,\n",
    "        'price':price,\n",
    "    }\n",
    "    \n",
    "    return data    \n",
    "def write_csv(data):\n",
    "    with open('output.csv','a') as csvfile:\n",
    "        writer = csv.writer(csvfile)\n",
    "        row = [data['title'],data['price']]\n",
    "        writer.writerow(row)\n",
    "        write_csv(data)\n",
    "\n",
    "\n",
    "def main():\n",
    "    url = \"https://www.ebay.com/itm/195422635526?hash=item2d8018c606:g:fjEAAOSwWl5iMMsB&amdata=enc%3AAQAHAAAAoIWzh3ZxrKTZw6l94hy%2B%2FBKsBwrJFb7Ye0zVnqCDLn1UMB%2B7%2B8aRPBfgO2Gb9yTkp5e3Ns0UF8ncOrKE8z0laaCgSHdd8qb4bslyasYnGqE36EW05QJZdbeNMIc1RjAmmKrfrD5n6Yp7R0G2Krdzs52RyGqA9s2XQ1%2BvUIKDjvfTnVdZEW9d8UgVIvIGT65BT3TdtaGGoJ5XfGufiCX6x2o%3D%7Ctkp%3ABk9SR4inxZL-YA\"\n",
    "    get_detail_data(get_page(url))\n",
    "        \n",
    "if __name__=='__main__':\n",
    "    main()"
   ]
  },
  {
   "cell_type": "code",
   "execution_count": 56,
   "id": "ec9a42b4",
   "metadata": {},
   "outputs": [],
   "source": [
    "import requests\n",
    "from bs4 import BeautifulSoup\n",
    "url = \"https://www.ebay.com/itm/195422635526?hash=item2d8018c606:g:fjEAAOSwWl5iMMsB&amdata=enc%3AAQAHAAAAoIWzh3ZxrKTZw6l94hy%2B%2FBKsBwrJFb7Ye0zVnqCDLn1UYt8lHcQUAbfMKOf9IlWoITLbLNSTjxPaLQUQTcOjSCEGNlfmrGdHbTB%2Fi%2BCnyDMzpXloa1pRripeXGOLmB%2B8%2BJQISpBtiy9J6fT%2BxVl4l6aV0Yz4FRMmhZmwDiLcT3wKDMFNdiOuiB6z%2BcOzLKnBun4nTZLoL0N8w%2B6ZDWxoXfU%3D%7Ctkp%3ABk9SR4zu8Ij-YA\" "
   ]
  },
  {
   "cell_type": "code",
   "execution_count": 57,
   "id": "681ced62",
   "metadata": {},
   "outputs": [],
   "source": [
    "r = requests.get(url)\n",
    "htmlContent = r.content\n"
   ]
  },
  {
   "cell_type": "code",
   "execution_count": 58,
   "id": "810899d8",
   "metadata": {},
   "outputs": [],
   "source": [
    "soup = BeautifulSoup(htmlContent,'html.parser')"
   ]
  },
  {
   "cell_type": "code",
   "execution_count": 59,
   "id": "633d6f83",
   "metadata": {},
   "outputs": [
    {
     "name": "stdout",
     "output_type": "stream",
     "text": [
      "#mainContent\n",
      "https://www.ebay.com/\n",
      "https://www.ebay.com/sch/ebayadvsearch\n",
      "https://signin.ebay.com/ws/eBayISAPI.dll?SignIn&_trksid=m570.l3348\n",
      "https://www.ebay.com/globaldeals\n",
      "https://ocsnext.ebay.com/ocs/home\n",
      "https://www.ebay.com/sl/sell\n",
      "https://www.ebay.com/mye/myebay/watchlist\n",
      "#gh-wl-click\n",
      "https://signin.ebay.com/ws/eBayISAPI.dll?SignIn&ru=ru\n",
      "https://www.ebay.com/mys/home?source=GBH\n",
      "#gh-eb-My\n",
      "https://www.ebay.com/mye/myebay/summary\n",
      "https://www.ebay.com/mye/myebay/rvi\n",
      "https://www.ebay.com/mye/myebay/v2/bidsoffers\n",
      "https://www.ebay.com/mye/myebay/watchlist\n",
      "https://www.ebay.com/mye/myebay/purchase\n",
      "https://www.ebay.com/mye/buyagain\n",
      "https://www.ebay.com/mys/home?CurrentPage=MyeBayAllSelling&ssPageName=STRK:ME:LNLK:MESX&source=GBH\n",
      "https://www.ebay.com/myb/SavedSearches\n",
      "https://www.ebay.com/myb/SavedSellers\n",
      "https://mesg.ebay.com/mesgweb/ViewMessages/0\n",
      "https://cart.payments.ebay.com/sc/view\n",
      "#gh-minicart-hover\n",
      "http://www.ebay.com\n",
      "https://www.ebay.com/b/Auto-Parts-and-Vehicles/6000/bn_1865334\n",
      "https://www.ebay.com/b/Cars-Trucks/6001/bn_1865117\n",
      "https://www.ebay.com/b/Other-Ford-Cars-Trucks/6057/bn_7115133258\n",
      "https://www.ebay.com/myb/WatchListAdd?item=195422635526&rt=nc&sourcePage=4340&tagId=-99&SubmitAction.AddToListVI=x&ssPageName=VIP%3Awatchlink%3Atop%3Aen&_trksid=p2047675.m2548.l1359&etn=Watch+list\n",
      "https://pages.ebay.com/motors/buy/purchase-protection/index.html\n",
      "https://www.ebay.com/usr/cobra01car?_trksid=p2047675.m3561.l2559\n",
      "https://www.ebay.com/fdbk/feedback_profile/cobra01car?filter=feedback_page%3ARECEIVED_AS_SELLER&_trksid=p2047675.m3561.l2560\n",
      "#LISTING_FRAME_MODULE\n",
      "https://contact.ebay.com/ws/eBayISAPI.dll?ShowSellerFAQ&iid=195422635526&requested=cobra01car&redirect=0&frm=284&rt=nc&ssPageName=PageSellerM2MFAQ_VI&_trksid=p2047675.m3561.l1499\n",
      "https://www.ebay.com/sch/cobra01car/m.html?item=195422635526&rt=nc&_trksid=p2047675.m3561.l2562\n",
      "javascript:;\n",
      "https://pages.ebay.in/gbh/tnc-gbh.html\n",
      "http://cgi.ebay.com/ws/eBayISAPI.dll?ViewItem&item=195422635526&rev=0&boolp=1\n",
      "https://www.ebay.com/myb/WatchListAdd?_trksid=p2047675.l1360&item=195422635526&rt=nc&sourcePage=4340&srt=0100070000005062833cf354c777ed34c0e37b858b620fe8bc32dc7139f96ef9da7af0cbab4a11a5037e8daa9c9de9677271a53dfa56097c7de0dda72e7ad867807d374ac616f80b0d6482ee815f493e5731e0f60c42a1&SubmitAction.AddToListVI=x&ssPageName=VIP:watchlink:top:en\n",
      "https://ocswf.ebay.com/rti/compose?seller=cobra01car&rt=nc&rmvHdr=true&_trksid=p2047675.m2548.l2566&items=195422635526\n",
      "#\n",
      "#\n",
      "https://www.uship.com/redirect/ebay.aspx?a_make_name=Ford&a_model_name=Model+B&a_year=1932&c=79&country1=US&z1=17820&r=2822946\n",
      "https://express-simple.com/ebaymotors/?fyear=1932&item_id=195422635526&fmake=Ford&category=6057\n",
      "https://www.ebay.com/usr/cobra01car?_trksid=p2047675.m145687.l151930\n",
      "https://www.ebay.com/usr/cobra01car?_trksid=p2047675.m145687.l151931\n",
      "https://www.ebay.com/usr/cobra01car?_trksid=p2047675.m145687.l151929\n",
      "https://contact.ebay.com/ws/eBayISAPI.dll?ShowSellerFAQ&iid=195422635526&requested=cobra01car&redirect=0&frm=284&rt=nc&ssPageName=PageSellerM2MFAQ_VI&_trksid=p2047675.m145687.l149087\n",
      "http://www.ebay.com\n",
      "#\n",
      "https://www.ebay.com/b/Headlights-for-Ford-Model-B/33710/bn_1386514\n",
      "https://www.ebay.com/b/Grilles-for-Ford-Model-B/33645/bn_1386508\n",
      "https://www.ebay.com/b/Hoods-for-Ford-Model-B/33646/bn_1386509\n",
      "https://www.ebay.com/b/1932-Ford-Cars-Trucks/6001/bn_55180347\n",
      "https://www.ebay.com/b/Tail-Lights-for-Ford-Model-B/33716/bn_1386515\n",
      "https://www.ebay.com/b/Ford-Model-A-Cars/6001/bn_24012796\n",
      "https://www.ebay.com/b/1930-Ford-Model-A/6001/bn_24013513\n",
      "https://www.ebay.com/b/1929-Ford-Model-A/6001/bn_24013815\n",
      "https://www.ebay.com/b/1931-Ford-Model-A/6001/bn_24013463\n",
      "https://www.ebay.com/b/Ford-Model-T-Cars/6001/bn_24011070\n",
      "https://www.ebayinc.com/company\n",
      "https://community.ebay.com/t5/Announcements/bg-p/Announcements\n",
      "https://community.ebay.com\n",
      "https://pages.ebay.com/securitycenter/index.html\n",
      "https://pages.ebay.com/seller-center/index.html\n",
      "https://www.ebay.com/help/policies/default/ebays-rules-policies?id=4205\n",
      "https://partnernetwork.ebay.com\n",
      "https://www.ebay.com/help/home\n",
      "https://pages.ebay.com/sitemap.html\n",
      "https://www.ebayinc.com/accessibility/\n",
      "https://www.ebay.com/help/policies/member-behaviour-policies/user-agreement?id=4259\n",
      "https://www.ebay.com/help/policies/member-behaviour-policies/user-privacy-notice-privacy-policy?id=4260\n",
      "https://pages.ebay.com/payment/2.0/terms.html\n",
      "https://www.ebay.com/help/policies/member-behaviour-policies/ebay-cookie-notice?id=4267\n",
      "https://www.ebay.com/adchoice/ccpa\n",
      "https://www.ebay.com/adchoice\n"
     ]
    }
   ],
   "source": [
    "for link in soup.find_all('a'):\n",
    "    print(link.get('href'))"
   ]
  },
  {
   "cell_type": "code",
   "execution_count": null,
   "id": "3c8d460e",
   "metadata": {},
   "outputs": [],
   "source": []
  }
 ],
 "metadata": {
  "kernelspec": {
   "display_name": "Python 3 (ipykernel)",
   "language": "python",
   "name": "python3"
  },
  "language_info": {
   "codemirror_mode": {
    "name": "ipython",
    "version": 3
   },
   "file_extension": ".py",
   "mimetype": "text/x-python",
   "name": "python",
   "nbconvert_exporter": "python",
   "pygments_lexer": "ipython3",
   "version": "3.9.12"
  }
 },
 "nbformat": 4,
 "nbformat_minor": 5
}
