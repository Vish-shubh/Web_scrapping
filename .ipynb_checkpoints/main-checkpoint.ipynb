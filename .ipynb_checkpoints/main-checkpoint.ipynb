{
 "cells": [
  {
   "cell_type": "markdown",
   "id": "3311a614",
   "metadata": {},
   "source": [
    "# Linear Regression"
   ]
  },
  {
   "cell_type": "raw",
   "id": "eee609e6",
   "metadata": {},
   "source": [
    "1. Linear regression is supervised machine learning algorithm\n",
    "2. It will solve regression related problems\n",
    "\n",
    "\n",
    "y = mx + c\n",
    "\n",
    "y = m1x1 + m2x2 + ......mnxn + c\n",
    "\n",
    "Dependent Variable >> Continuous Data\n",
    "Independent Variables >> Continuous / discrete"
   ]
  },
  {
   "cell_type": "code",
   "execution_count": null,
   "id": "7875f13f",
   "metadata": {},
   "outputs": [],
   "source": []
  }
 ],
 "metadata": {
  "kernelspec": {
   "display_name": "Python 3 (ipykernel)",
   "language": "python",
   "name": "python3"
  },
  "language_info": {
   "codemirror_mode": {
    "name": "ipython",
    "version": 3
   },
   "file_extension": ".py",
   "mimetype": "text/x-python",
   "name": "python",
   "nbconvert_exporter": "python",
   "pygments_lexer": "ipython3",
   "version": "3.9.12"
  }
 },
 "nbformat": 4,
 "nbformat_minor": 5
}
